{
 "cells": [
  {
   "cell_type": "code",
   "execution_count": null,
   "id": "267d7465-d7ab-4b97-92db-b994cc07fdb8",
   "metadata": {},
   "outputs": [],
   "source": [
    "#Problem Number 1\n",
    "\n",
    "#1.1: Use the command print working directory.\n",
    "#1.2: ls lists the names of all the non-hidden directories and files\n",
    "#1.3: cat [name of the file] allows you to edit the file specified\n",
    "#1.4: nano [name of the file] allows you to read the text\n",
    "#1.5: What do you mean see the difference? See the difference as in comparing the two files' contents or names?\n",
    "#1.6: cp \"patterns.txt\" ~./math/calculus/\n",
    "#1.7: rm ~/math/calculus/triangle.txt\n",
    "#1.8: Music is not specified in this question, but I believe the correct command to call would be cd ~/math\n",
    "#1.9: git add math\n",
    "#1.10: git add math?\n",
    "#1.11: cp \"symmetry.txt\" ..~/math\n",
    "#1.12: git status, git won't show you tracking a new file until it has already been committed. \n",
    "#1.13: git add \"symmetry.txt, git add ..\n",
    "#1.14: run git status and check if it is waiting to be committed. git restore --staged [file path]\n",
    "#1.15 git commit\n",
    "#1.16 git push origin [branch you are pushing] You want to push to your local branch otherwise it will overrite your files in a different branch with the files staged in the branch you are working in\n",
    "#1.17 git branch applied_math\n",
    "#1.18 git checkout applied_math\n",
    "#1.19 git add, git commit, git push origin applied_math. If you commit to the wrong branch you overrite the files in the other branch with the files staged in this one.\n",
    "#1.20 git branch, your current working branch will be highlighted\n",
    "#1.21 git checkout [main or master]\n",
    "#1.22 \n",
    "\n",
    "                    ulab\n",
    "        ulab_2024                            ulab_lucas\n",
    "    README.md, h"
   ]
  }
 ],
 "metadata": {
  "kernelspec": {
   "display_name": "Python 3 (ipykernel)",
   "language": "python",
   "name": "python3"
  },
  "language_info": {
   "codemirror_mode": {
    "name": "ipython",
    "version": 3
   },
   "file_extension": ".py",
   "mimetype": "text/x-python",
   "name": "python",
   "nbconvert_exporter": "python",
   "pygments_lexer": "ipython3",
   "version": "3.12.4"
  }
 },
 "nbformat": 4,
 "nbformat_minor": 5
}
