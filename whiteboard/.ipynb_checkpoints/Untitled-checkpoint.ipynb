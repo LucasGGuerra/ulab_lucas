{
 "cells": [
  {
   "cell_type": "code",
   "execution_count": 1,
   "id": "50fcec47-d87e-4dcd-a040-556ab314ebf6",
   "metadata": {},
   "outputs": [
    {
     "name": "stdout",
     "output_type": "stream",
     "text": [
      "Hello, World!\n"
     ]
    }
   ],
   "source": [
    "# print () function\n",
    "print(\"Hello, World!\")"
   ]
  },
  {
   "cell_type": "code",
   "execution_count": 3,
   "id": "1d950d3e-b5f4-4e2d-9a18-3299b01e1623",
   "metadata": {},
   "outputs": [
    {
     "data": {
      "text/plain": [
       "int"
      ]
     },
     "execution_count": 3,
     "metadata": {},
     "output_type": "execute_result"
    }
   ],
   "source": [
    "# Integer\n",
    "type(4)"
   ]
  },
  {
   "cell_type": "code",
   "execution_count": 11,
   "id": "f43e3286-74d3-451d-8603-230d76f1c85f",
   "metadata": {},
   "outputs": [
    {
     "data": {
      "text/plain": [
       "float"
      ]
     },
     "execution_count": 11,
     "metadata": {},
     "output_type": "execute_result"
    }
   ],
   "source": [
    "# float\n",
    "type(4.0)"
   ]
  },
  {
   "cell_type": "code",
   "execution_count": 13,
   "id": "4d9b8d99-061e-4b25-9ef5-fa9b2bceb978",
   "metadata": {},
   "outputs": [
    {
     "data": {
      "text/plain": [
       "str"
      ]
     },
     "execution_count": 13,
     "metadata": {},
     "output_type": "execute_result"
    }
   ],
   "source": [
    "# strings\n",
    "type(\"what's up\")"
   ]
  },
  {
   "cell_type": "code",
   "execution_count": 19,
   "id": "cb3af3b1-38cf-4bfc-a942-4cd654ef9dc6",
   "metadata": {},
   "outputs": [
    {
     "data": {
      "text/plain": [
       "bool"
      ]
     },
     "execution_count": 19,
     "metadata": {},
     "output_type": "execute_result"
    }
   ],
   "source": [
    "# Boolean\n",
    "type(False)"
   ]
  },
  {
   "cell_type": "code",
   "execution_count": 65,
   "id": "f0aa169e-3e5d-4f25-b12f-ba0be0c89c67",
   "metadata": {},
   "outputs": [
    {
     "name": "stdout",
     "output_type": "stream",
     "text": [
      "<class 'int'>\n",
      "<class 'str'>\n",
      "<class 'float'>\n",
      "<class 'bool'>\n"
     ]
    }
   ],
   "source": [
    "# List\n",
    "type([2, \"apply\", 1.7, True])\n",
    "\n",
    "Types = [2, \"apply\", 1.7, True]\n",
    "\n",
    "for Type in Types:\n",
    "    print(type(Type))\n",
    "    "
   ]
  },
  {
   "cell_type": "code",
   "execution_count": 62,
   "id": "9c7c5d53-f31a-41fa-ad24-b875756901b9",
   "metadata": {},
   "outputs": [
    {
     "data": {
      "text/plain": [
       "dict"
      ]
     },
     "execution_count": 62,
     "metadata": {},
     "output_type": "execute_result"
    }
   ],
   "source": [
    "# Dictionary\n",
    "type({\"color\" : \"blue\"})"
   ]
  },
  {
   "cell_type": "code",
   "execution_count": 33,
   "id": "00ab057e-d106-44ea-b5cb-7dc05c159c7b",
   "metadata": {},
   "outputs": [
    {
     "name": "stdout",
     "output_type": "stream",
     "text": [
      "{'color': 'blue'}\n"
     ]
    }
   ],
   "source": [
    "print({\"color\" : \"blue\"})"
   ]
  },
  {
   "cell_type": "code",
   "execution_count": 49,
   "id": "c4b1ad6d-1831-4afb-8c86-2eb605b73978",
   "metadata": {},
   "outputs": [
    {
     "data": {
      "text/plain": [
       "set"
      ]
     },
     "execution_count": 49,
     "metadata": {},
     "output_type": "execute_result"
    }
   ],
   "source": [
    "#set\n",
    "type({1, 2})"
   ]
  },
  {
   "cell_type": "code",
   "execution_count": 51,
   "id": "e00154bd-adb0-440d-90f1-3874ba028712",
   "metadata": {},
   "outputs": [
    {
     "data": {
      "text/plain": [
       "tuple"
      ]
     },
     "execution_count": 51,
     "metadata": {},
     "output_type": "execute_result"
    }
   ],
   "source": [
    "#tuple\n",
    "type((1,2))"
   ]
  },
  {
   "cell_type": "code",
   "execution_count": 73,
   "id": "a25b23c9-a3e2-42a3-80bf-ec9176e4838e",
   "metadata": {},
   "outputs": [
    {
     "data": {
      "text/plain": [
       "1"
      ]
     },
     "execution_count": 73,
     "metadata": {},
     "output_type": "execute_result"
    }
   ],
   "source": [
    "#Modulus\n",
    "2 % 2\n",
    "10 % 3\n"
   ]
  },
  {
   "cell_type": "code",
   "execution_count": 75,
   "id": "58a57385-3ec5-4ce1-b18e-d20d61985bf2",
   "metadata": {},
   "outputs": [
    {
     "data": {
      "text/plain": [
       "8"
      ]
     },
     "execution_count": 75,
     "metadata": {},
     "output_type": "execute_result"
    }
   ],
   "source": [
    "# Exponential\n",
    "2 ** 3"
   ]
  },
  {
   "cell_type": "code",
   "execution_count": null,
   "id": "8d4e1cb0-ebb5-4be2-8c2f-a22e48d49176",
   "metadata": {},
   "outputs": [],
   "source": []
  }
 ],
 "metadata": {
  "kernelspec": {
   "display_name": "Python 3 (ipykernel)",
   "language": "python",
   "name": "python3"
  },
  "language_info": {
   "codemirror_mode": {
    "name": "ipython",
    "version": 3
   },
   "file_extension": ".py",
   "mimetype": "text/x-python",
   "name": "python",
   "nbconvert_exporter": "python",
   "pygments_lexer": "ipython3",
   "version": "3.12.4"
  }
 },
 "nbformat": 4,
 "nbformat_minor": 5
}
